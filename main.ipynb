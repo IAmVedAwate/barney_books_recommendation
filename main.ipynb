{
 "cells": [
  {
   "cell_type": "code",
   "execution_count": 22,
   "metadata": {},
   "outputs": [
    {
     "data": {
      "text/plain": [
       "'The Catcher in the Rye'"
      ]
     },
     "execution_count": 22,
     "metadata": {},
     "output_type": "execute_result"
    }
   ],
   "source": [
    "book_titles = [\n",
    "    \"The Catcher in the Rye\",\n",
    "    \"To Kill a Mockingbird\",\n",
    "    \"1984\",\n",
    "    \"The Great Gatsby\",\n",
    "    \"Pride and Prejudice\",\n",
    "    \"The Hobbit\",\n",
    "    \"The Da Vinci Code\",\n",
    "    \"Harry Potter and the Sorcerer's Stone\",\n",
    "    \"The Hunger Games\",\n",
    "    \"The Alchemist\"\n",
    "]\n",
    "book_titles[0]"
   ]
  },
  {
   "cell_type": "code",
   "execution_count": 23,
   "metadata": {},
   "outputs": [],
   "source": [
    "from dotenv import load_dotenv\n",
    "# from langchain.embeddings import OpenAIEmbeddings\n",
    "from langchain.embeddings import FakeEmbeddings\n",
    "\n",
    "load_dotenv(\".env\")\n",
    "\n",
    "# fake_embeddings = OpenAIEmbeddings()\n",
    "fake_embeddings = FakeEmbeddings(size=1536)\n",
    "fake_embeddings_list = []\n",
    "\n",
    "for book_title in book_titles:\n",
    "    fake_embeddings_list.append(fake_embeddings.embed_query(book_title))"
   ]
  },
  {
   "cell_type": "code",
   "execution_count": 24,
   "metadata": {},
   "outputs": [],
   "source": [
    "#fake_embeddings_list"
   ]
  },
  {
   "cell_type": "code",
   "execution_count": 25,
   "metadata": {},
   "outputs": [],
   "source": [
    "import numpy as np\n",
    "fake_embeddings_list = np.array(fake_embeddings_list).astype(\"float32\")"
   ]
  },
  {
   "cell_type": "code",
   "execution_count": 26,
   "metadata": {},
   "outputs": [],
   "source": [
    "import faiss\n",
    "index = faiss.IndexFlatL2(1536)\n",
    "index.add(fake_embeddings_list)"
   ]
  },
  {
   "cell_type": "code",
   "execution_count": 27,
   "metadata": {},
   "outputs": [
    {
     "data": {
      "text/plain": [
       "array([[ 0.29276305, -1.2324003 , -0.07327866, ..., -1.217621  ,\n",
       "         0.91084623,  0.2473192 ]], dtype=float32)"
      ]
     },
     "execution_count": 27,
     "metadata": {},
     "output_type": "execute_result"
    }
   ],
   "source": [
    "test_sample = fake_embeddings.embed_query(\"Game Of Thrones\")\n",
    "test_sample = np.array([test_sample]).astype(\"float32\")\n",
    "test_sample"
   ]
  },
  {
   "cell_type": "code",
   "execution_count": 28,
   "metadata": {},
   "outputs": [],
   "source": [
    "k = 5\n",
    "distances, indices = index.search(test_sample,k)"
   ]
  },
  {
   "cell_type": "code",
   "execution_count": 29,
   "metadata": {},
   "outputs": [
    {
     "data": {
      "text/plain": [
       "array([['The Hunger Games', '1984', 'The Catcher in the Rye',\n",
       "        'The Great Gatsby', 'Pride and Prejudice']], dtype='<U37')"
      ]
     },
     "execution_count": 29,
     "metadata": {},
     "output_type": "execute_result"
    }
   ],
   "source": [
    "np.array(book_titles)[indices]"
   ]
  },
  {
   "cell_type": "code",
   "execution_count": 30,
   "metadata": {},
   "outputs": [],
   "source": [
    "faiss.write_index(index, \"myindex.index\")\n",
    "index = faiss.read_index(\"myindex.index\")"
   ]
  },
  {
   "cell_type": "code",
   "execution_count": null,
   "metadata": {},
   "outputs": [],
   "source": []
  }
 ],
 "metadata": {
  "kernelspec": {
   "display_name": "Python 3",
   "language": "python",
   "name": "python3"
  },
  "language_info": {
   "codemirror_mode": {
    "name": "ipython",
    "version": 3
   },
   "file_extension": ".py",
   "mimetype": "text/x-python",
   "name": "python",
   "nbconvert_exporter": "python",
   "pygments_lexer": "ipython3",
   "version": "3.11.5"
  }
 },
 "nbformat": 4,
 "nbformat_minor": 2
}
